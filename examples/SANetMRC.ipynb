{
 "cells": [
  {
   "cell_type": "code",
   "execution_count": 1,
   "id": "rotary-academy",
   "metadata": {},
   "outputs": [
    {
     "name": "stdout",
     "output_type": "stream",
     "text": [
      "beta v2.8.0\n"
     ]
    }
   ],
   "source": [
    "import uf\n",
    "\n",
    "print(uf.__version__)"
   ]
  },
  {
   "cell_type": "code",
   "execution_count": 2,
   "id": "velvet-symbol",
   "metadata": {},
   "outputs": [
    {
     "name": "stdout",
     "output_type": "stream",
     "text": [
      "uf.SANetMRC(config_file='../demo/bert_config.json', vocab_file='../demo/vocab.txt', max_seq_length=256, init_checkpoint=None, output_dir=None, gpu_ids=None, do_lower_case=True, reading_module='bert', split_sign='. ', alpha=0.5, truncate_method='longer-FO')\n"
     ]
    }
   ],
   "source": [
    "model = uf.SANetMRC('../demo/bert_config.json', '../demo/vocab.txt')\n",
    "print(model)"
   ]
  },
  {
   "cell_type": "code",
   "execution_count": 3,
   "id": "drawn-breathing",
   "metadata": {},
   "outputs": [],
   "source": [
    "X = [{'doc': '天亮以前说再见，笑着泪流满面。去迎接应该你的，更好的明天', 'ques': '何时说的再见'}, \n",
    "     {'doc': '他想知道那是谁，为何总沉默寡言。人群中也算抢眼，抢眼的孤独难免', 'ques': '抢眼的如何'}]\n",
    "y = [{'text': '天亮以前', 'answer_start': 0}, {'text': '孤独难免', 'answer_start': 27}]"
   ]
  },
  {
   "cell_type": "markdown",
   "id": "vanilla-fault",
   "metadata": {},
   "source": [
    "# 训练"
   ]
  },
  {
   "cell_type": "code",
   "execution_count": 4,
   "id": "excellent-religion",
   "metadata": {},
   "outputs": [
    {
     "name": "stdout",
     "output_type": "stream",
     "text": [
      "WARNING:tensorflow:From /Users/geyingli/Library/Python/3.8/lib/python/site-packages/tensorflow/python/util/dispatch.py:201: calling dropout (from tensorflow.python.ops.nn_ops) with keep_prob is deprecated and will be removed in a future version.\n",
      "Instructions for updating:\n",
      "Please use `rate` instead of `keep_prob`. Rate should be set to `rate = 1 - keep_prob`.\n"
     ]
    },
    {
     "name": "stderr",
     "output_type": "stream",
     "text": [
      "/Users/geyingli/Library/Python/3.8/lib/python/site-packages/tensorflow/python/keras/legacy_tf_layers/core.py:171: UserWarning: `tf.layers.dense` is deprecated and will be removed in a future version. Please use `tf.keras.layers.Dense` instead.\n",
      "  warnings.warn('`tf.layers.dense` is deprecated and '\n",
      "/Users/geyingli/Library/Python/3.8/lib/python/site-packages/tensorflow/python/keras/engine/base_layer_v1.py:1719: UserWarning: `layer.apply` is deprecated and will be removed in a future version. Please use `layer.__call__` method instead.\n",
      "  warnings.warn('`layer.apply` is deprecated and '\n"
     ]
    },
    {
     "name": "stdout",
     "output_type": "stream",
     "text": [
      "INFO:tensorflow:Build graph with 310,941,702 parameters (among which 104,040,962 are trainable)\n",
      "INFO:tensorflow:Running local_init_op\n",
      "INFO:tensorflow:Done running local_init_op\n",
      "INFO:tensorflow:Running training on 2 samples (step 0 -> 10)\n",
      "INFO:tensorflow:step 1, exact_match 0.0000, f1 0.0000, loss 5.384319, 0.02 steps/sec, 0.05 examples/sec\n",
      "INFO:tensorflow:step 2, exact_match 0.0000, f1 0.0000, loss 5.417999, 0.06 steps/sec, 0.13 examples/sec\n",
      "INFO:tensorflow:step 3, exact_match 1.0000, f1 1.0000, loss 3.572763, 0.05 steps/sec, 0.11 examples/sec\n",
      "INFO:tensorflow:step 4, exact_match 1.0000, f1 1.0000, loss 2.422654, 0.06 steps/sec, 0.12 examples/sec\n",
      "INFO:tensorflow:step 5, exact_match 1.0000, f1 1.0000, loss 1.693015, 0.08 steps/sec, 0.16 examples/sec\n",
      "INFO:tensorflow:step 6, exact_match 1.0000, f1 1.0000, loss 0.994679, 0.07 steps/sec, 0.14 examples/sec\n",
      "INFO:tensorflow:step 7, exact_match 1.0000, f1 1.0000, loss 0.765934, 0.07 steps/sec, 0.15 examples/sec\n",
      "INFO:tensorflow:step 8, exact_match 1.0000, f1 1.0000, loss 0.421649, 0.10 steps/sec, 0.19 examples/sec\n",
      "INFO:tensorflow:step 9, exact_match 1.0000, f1 1.0000, loss 0.285760, 0.08 steps/sec, 0.15 examples/sec\n",
      "INFO:tensorflow:step 10, exact_match 1.0000, f1 1.0000, loss 0.240215, 0.08 steps/sec, 0.16 examples/sec\n"
     ]
    }
   ],
   "source": [
    "model.fit(X, y, total_steps=10)"
   ]
  },
  {
   "cell_type": "markdown",
   "id": "fallen-hundred",
   "metadata": {},
   "source": [
    "# 推理"
   ]
  },
  {
   "cell_type": "code",
   "execution_count": 5,
   "id": "opposite-pantyhose",
   "metadata": {},
   "outputs": [
    {
     "name": "stdout",
     "output_type": "stream",
     "text": [
      "INFO:tensorflow:Time usage 0m-2.01s, 0.50 steps/sec, 0.99 examples/sec\n"
     ]
    },
    {
     "data": {
      "text/plain": [
       "{'preds': ['天亮以前', '孤独难免'],\n",
       " 'probs': array([[[1.60059339e-04, 1.44699370e-04, 1.70049985e-04, ...,\n",
       "          8.78884020e-05, 9.06396308e-05, 8.28543270e-05],\n",
       "         [1.91902276e-04, 1.44534890e-04, 1.58379873e-04, ...,\n",
       "          1.06402025e-04, 1.05006860e-04, 1.06653977e-04]],\n",
       " \n",
       "        [[1.69186547e-04, 1.40325734e-04, 1.62102937e-04, ...,\n",
       "          8.91798700e-05, 9.04629560e-05, 8.34821258e-05],\n",
       "         [2.17463370e-04, 1.47912389e-04, 1.68064144e-04, ...,\n",
       "          1.16830815e-04, 1.16361356e-04, 1.16711322e-04]]], dtype=float32)}"
      ]
     },
     "execution_count": 5,
     "metadata": {},
     "output_type": "execute_result"
    }
   ],
   "source": [
    "model.predict(X)"
   ]
  },
  {
   "cell_type": "markdown",
   "id": "fundamental-poverty",
   "metadata": {},
   "source": [
    "# 评分"
   ]
  },
  {
   "cell_type": "code",
   "execution_count": 6,
   "id": "accessory-lesbian",
   "metadata": {},
   "outputs": [
    {
     "name": "stdout",
     "output_type": "stream",
     "text": [
      "INFO:tensorflow:Time usage 0m-1.34s, 0.75 steps/sec, 1.49 examples/sec\n"
     ]
    },
    {
     "data": {
      "text/plain": [
       "{'exact_match': 1.0, 'f1': 0.9999992500003125, 'loss': 0.13453883}"
      ]
     },
     "execution_count": 6,
     "metadata": {},
     "output_type": "execute_result"
    }
   ],
   "source": [
    "model.score(X, y)"
   ]
  }
 ],
 "metadata": {
  "kernelspec": {
   "display_name": "Python 3",
   "language": "python",
   "name": "python3"
  },
  "language_info": {
   "codemirror_mode": {
    "name": "ipython",
    "version": 3
   },
   "file_extension": ".py",
   "mimetype": "text/x-python",
   "name": "python",
   "nbconvert_exporter": "python",
   "pygments_lexer": "ipython3",
   "version": "3.8.2"
  }
 },
 "nbformat": 4,
 "nbformat_minor": 5
}
